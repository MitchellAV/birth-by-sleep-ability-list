{
 "cells": [
  {
   "cell_type": "code",
   "execution_count": 48,
   "metadata": {},
   "outputs": [],
   "source": [
    "import pandas as pd\n",
    "from typing import Any, cast\n",
    "import json"
   ]
  },
  {
   "cell_type": "code",
   "execution_count": 49,
   "metadata": {},
   "outputs": [],
   "source": [
    "data_folder = \"./json\"\n",
    "outcome_file = 'outcomes.json'\n",
    "data_files = [\n",
    "    \"action.json\",\n",
    "    \"attack.json\",\n",
    "    \"magic.json\",\n",
    "    \"shotlock.json\",\n",
    "]"
   ]
  },
  {
   "cell_type": "code",
   "execution_count": 50,
   "metadata": {},
   "outputs": [
    {
     "name": "stdout",
     "output_type": "stream",
     "text": [
      "       Shimmering      Fleeting       Pulsing      Wellspring       Soothing  \\\n",
      "A      Fire Boost   Magic Haste   Leaf Bracer  Air Combo Plus       HP Boost   \n",
      "B      Fire Boost  Reload Boost  Finish Boost       Once More  Damage Syphon   \n",
      "C     Fire Screen  Attack Haste  Finish Boost      Combo Plus       HP Boost   \n",
      "D     Fire Screen  Attack Haste   Leaf Bracer      Combo Plus       HP Boost   \n",
      "E  Blizzard Boost   Magic Haste   Leaf Bracer      Combo Plus     Item Boost   \n",
      "\n",
      "          Hungry        Abounding  \n",
      "A  HP Prize Plus  Link Prize Plus  \n",
      "B  HP Prize Plus       EXP Chance  \n",
      "C  HP Prize Plus  Link Prize Plus  \n",
      "D  HP Prize Plus  Link Prize Plus  \n",
      "E  HP Prize Plus     Lucky Strike  \n"
     ]
    }
   ],
   "source": [
    "def load_json(file:str):\n",
    "    loaded_dict = {}\n",
    "    with open(f'{data_folder}/{file}', 'r') as f:\n",
    "        loaded_dict  = json.load(f)\n",
    "    return loaded_dict\n",
    "\n",
    "def create_outcomes_df(outcomes_dict:dict[str, str]) -> pd.DataFrame:\n",
    "    crystals = cast(list[str], outcomes_dict.get('Crystals', []))\n",
    "    outcomes_dict.pop('Crystals')\n",
    "    outcomes_df = pd.DataFrame.from_dict(outcomes_dict, columns=crystals, orient='index')\n",
    "    return outcomes_df\n",
    "\n",
    "\n",
    "outcomes_dict: dict[str,str] = load_json(outcome_file)\n",
    "outcome_df = create_outcomes_df(outcomes_dict)\n",
    "print(outcome_df.head())\n"
   ]
  },
  {
   "cell_type": "code",
   "execution_count": 51,
   "metadata": {},
   "outputs": [
    {
     "name": "stdout",
     "output_type": "stream",
     "text": [
      "action\n",
      "        Command 1st Ingredient 2nd Ingredient Type    %  terra  ventus   aqua\n",
      "0  Homing Slide   Sliding Dash        Magnera    P  100  False    True   True\n",
      "1  Homing Slide   Sliding Dash      Air Slide    C  100  False    True   True\n",
      "2  Homing Slide         Magnet      Air Slide    L  100  False    True   True\n",
      "3  Thunder Roll  Thunder Surge     Dodge Roll    P   80  False    True  False\n",
      "4  Thunder Roll       Thundaga     Dodge Roll    L   80  False    True  False\n",
      "attack\n",
      "        Command 1st Ingredient 2nd Ingredient Type    %  terra  ventus   aqua\n",
      "0         Blitz    Quick Blitz      Slot Edge    O   90   True    True   True\n",
      "1         Blitz  Barrier Surge   Wishing Edge    P   90  False   False   True\n",
      "2         Blitz      Stun Edge      Slot Edge    K   90   True    True   True\n",
      "3  Meteor Crash          Blitz          Quake    N  100   True   False  False\n",
      "4  Meteor Crash    Fire Strike   Brutal Blast    D  100   True   False  False\n",
      "magic\n",
      "  Command 1st Ingredient 2nd Ingredient Type    %  terra  ventus  aqua\n",
      "0    Fira      Fire Dash           Fire    D  100   True    True  True\n",
      "1    Fira    Fire Strike           Fire    D  100   True    True  True\n",
      "2    Fira           Fire           Fire    A  100   True    True  True\n",
      "3    Fira           Fire         Ignite    C  100   True    True  True\n",
      "4  Firaga      Fire Dash           Fira    D   90   True    True  True\n",
      "shotlock\n",
      "         Command  1st Ingredient 2nd Ingredient Type   %  terra  ventus   aqua\n",
      "0  Lightning Ray           Blitz      Dark Haze    -  10   True   False  False\n",
      "1  Lightning Ray           Blitz      Air Slide    -  10   True    True   True\n",
      "2  Lightning Ray       Fire Dash  Thunder Surge    -  10   True    True   True\n",
      "3  Lightning Ray  Binding Strike       Thundara    -  10   True    True   True\n",
      "4  Lightning Ray         Thunder       Thundara    -  10   True    True   True\n"
     ]
    }
   ],
   "source": [
    "def create_recipe_df(recipe_list: list[dict[str,str]], columns) -> pd.DataFrame:\n",
    "    recipe_df = pd.DataFrame.from_records(recipe_list)\n",
    "    recipe_df.columns = columns\n",
    "\n",
    "    characters = ['terra', 'ventus', 'aqua']\n",
    "\n",
    "\n",
    "    def filter_characters(x:list[str], char: str) -> bool:\n",
    "        return char in x\n",
    "\n",
    "    for character in characters:\n",
    "        recipe_df[character] = recipe_df['Used By'].apply(filter_characters, char=character)\n",
    "\n",
    "    recipe_df.drop('Used By', axis=1, inplace=True)\n",
    "    \n",
    "    \n",
    "    return recipe_df\n",
    "\n",
    "def create_recipe_dfs():\n",
    "    recipe_dfs: list[tuple[str, pd.DataFrame]] = []\n",
    "    for file in data_files:\n",
    "        filename = file.split('.')[0]\n",
    "\n",
    "        data_dict: dict[str, Any] = load_json(file)\n",
    "\n",
    "        header: dict[str,str] | None = data_dict.get('header')\n",
    "        if not header:\n",
    "            raise ValueError(f'No header found in {file}')\n",
    "        \n",
    "        columns = list(header.values())\n",
    "\n",
    "        recipes: list[dict[str,str]] | None = data_dict.get('recipes')\n",
    "        if not recipes:\n",
    "            raise ValueError(f'No recipes found in {file}')\n",
    "        \n",
    "        recipe_df = create_recipe_df(recipes, columns)\n",
    "        recipe_dfs.append((filename,recipe_df))\n",
    "    return recipe_dfs\n",
    "\n",
    "recipe_dfs = create_recipe_dfs()\n",
    "\n",
    "for name, df in recipe_dfs:\n",
    "    print(name)\n",
    "    print(df.head())\n",
    "    \n",
    "    "
   ]
  }
 ],
 "metadata": {
  "kernelspec": {
   "display_name": ".venv",
   "language": "python",
   "name": "python3"
  },
  "language_info": {
   "codemirror_mode": {
    "name": "ipython",
    "version": 3
   },
   "file_extension": ".py",
   "mimetype": "text/x-python",
   "name": "python",
   "nbconvert_exporter": "python",
   "pygments_lexer": "ipython3",
   "version": "3.12.4"
  }
 },
 "nbformat": 4,
 "nbformat_minor": 2
}
